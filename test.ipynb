{
 "metadata": {
  "name": "",
  "signature": "sha256:b48cf565df292ab14da9f5b0c70424752372b42ba5646e38fc0c5be783ae76d3"
 },
 "nbformat": 3,
 "nbformat_minor": 0,
 "worksheets": [
  {
   "cells": [
    {
     "cell_type": "code",
     "collapsed": false,
     "input": [
      "%matplotlib inline\n",
      "import dympy\n",
      "import matplotlib.pyplot as plt"
     ],
     "language": "python",
     "metadata": {},
     "outputs": [],
     "prompt_number": 1
    },
    {
     "cell_type": "code",
     "collapsed": false,
     "input": [
      "dir(dympy)"
     ],
     "language": "python",
     "metadata": {},
     "outputs": [
      {
       "metadata": {},
       "output_type": "pyout",
       "prompt_number": 2,
       "text": [
        "['Dymola',\n",
        " '__builtins__',\n",
        " '__doc__',\n",
        " '__file__',\n",
        " '__name__',\n",
        " '__package__',\n",
        " '__path__',\n",
        " 'dde',\n",
        " 'os',\n",
        " 'scipy',\n",
        " 'string',\n",
        " 'win32ui']"
       ]
      }
     ],
     "prompt_number": 2
    },
    {
     "cell_type": "code",
     "collapsed": false,
     "input": [
      "dymola = dympy.Dymola()"
     ],
     "language": "python",
     "metadata": {},
     "outputs": [],
     "prompt_number": 3
    },
    {
     "cell_type": "code",
     "collapsed": false,
     "input": [
      "dymola.openModel('C:\\\\Python27\\\\Lib\\\\site-packages\\\\dympy\\\\test.mo')"
     ],
     "language": "python",
     "metadata": {},
     "outputs": [],
     "prompt_number": 4
    },
    {
     "cell_type": "code",
     "collapsed": false,
     "input": [
      "dymola.compile('test')"
     ],
     "language": "python",
     "metadata": {},
     "outputs": [],
     "prompt_number": 5
    },
    {
     "cell_type": "markdown",
     "metadata": {},
     "source": [
      "##Simulate"
     ]
    },
    {
     "cell_type": "code",
     "collapsed": false,
     "input": [
      "dymola.simulate(StartTime=0,StopTime=86400)"
     ],
     "language": "python",
     "metadata": {},
     "outputs": [],
     "prompt_number": 6
    },
    {
     "cell_type": "markdown",
     "metadata": {},
     "source": [
      "##Return results"
     ]
    },
    {
     "cell_type": "code",
     "collapsed": false,
     "input": [
      "res=dymola.get_result()"
     ],
     "language": "python",
     "metadata": {},
     "outputs": [],
     "prompt_number": 7
    },
    {
     "cell_type": "code",
     "collapsed": false,
     "input": [
      "res.keys()"
     ],
     "language": "python",
     "metadata": {},
     "outputs": [
      {
       "metadata": {},
       "output_type": "pyout",
       "prompt_number": 11,
       "text": [
        "['prescribedHeatFlow.Q_flow',\n",
        " 'prescribedHeatFlow.alpha',\n",
        " 'UA12.G',\n",
        " 'C2.T',\n",
        " 'C2.port.T',\n",
        " 'prescribedHeatFlow.port.Q_flow',\n",
        " 'UA12.port_a.Q_flow',\n",
        " 'C2.der_T',\n",
        " 'C2.C',\n",
        " 'fixedTemperature.T',\n",
        " 'C1.der(T)',\n",
        " 'UA2T.port_a.T',\n",
        " 'UA2T.port_a.Q_flow',\n",
        " 'UA12.port_b.T',\n",
        " 'UA12.port_a.T',\n",
        " 'C2.der(T)',\n",
        " 'UA2T.dT',\n",
        " 'UA2T.port_b.Q_flow',\n",
        " 'C1.T',\n",
        " 'prescribedHeatFlow.T_ref',\n",
        " 'fixedTemperature.port.T',\n",
        " 'UA2T.port_b.T',\n",
        " 'C1.port.T',\n",
        " 'C1.C',\n",
        " 'Time',\n",
        " 'C1.port.Q_flow',\n",
        " 'C2.port.Q_flow',\n",
        " 'UA2T.G',\n",
        " 'C1.der_T',\n",
        " 'UA2T.Q_flow',\n",
        " 'prescribedHeatFlow.port.T',\n",
        " 'UA12.dT',\n",
        " 'fixedTemperature.port.Q_flow',\n",
        " 'u',\n",
        " 'UA12.Q_flow',\n",
        " 'UA12.port_b.Q_flow']"
       ]
      }
     ],
     "prompt_number": 11
    },
    {
     "cell_type": "code",
     "collapsed": false,
     "input": [
      "plt.plot(res['Time']/3600,res['C1.T'],'r',label='$T_{C1}$')\n",
      "plt.plot(res['Time']/3600,res['C2.T'],'b',label='$T_{C2}$')\n",
      "plt.plot(res['Time']/3600,res['fixedTemperature.T'],'g',label='$T_{fixed}$')\n",
      "plt.legend()"
     ],
     "language": "python",
     "metadata": {},
     "outputs": [
      {
       "metadata": {},
       "output_type": "pyout",
       "prompt_number": 12,
       "text": [
        "<matplotlib.legend.Legend at 0x949f590>"
       ]
      },
      {
       "metadata": {},
       "output_type": "display_data",
       "png": "[encoded data removed]",
       "text": [
        "<matplotlib.figure.Figure at 0x9013d90>"
       ]
      }
     ],
     "prompt_number": 12
    },
    {
     "cell_type": "code",
     "collapsed": false,
     "input": [],
     "language": "python",
     "metadata": {},
     "outputs": [],
     "prompt_number": 10
    },
    {
     "cell_type": "code",
     "collapsed": false,
     "input": [],
     "language": "python",
     "metadata": {},
     "outputs": [],
     "prompt_number": 9
    },
    {
     "cell_type": "code",
     "collapsed": false,
     "input": [],
     "language": "python",
     "metadata": {},
     "outputs": []
    }
   ],
   "metadata": {}
  }
 ]
}