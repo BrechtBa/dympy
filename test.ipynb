{
 "metadata": {
  "name": "",
  "signature": "sha256:6d392211e7a55a6b8108803cd72698c94724bc37131e2515a0e5995a4e7e786a"
 },
 "nbformat": 3,
 "nbformat_minor": 0,
 "worksheets": [
  {
   "cells": [
    {
     "cell_type": "markdown",
     "metadata": {},
     "source": [
      "#DymPy example"
     ]
    },
    {
     "cell_type": "code",
     "collapsed": false,
     "input": [
      "%matplotlib inline\n",
      "import dympy\n",
      "import matplotlib.pyplot as plt"
     ],
     "language": "python",
     "metadata": {},
     "outputs": []
    },
    {
     "cell_type": "code",
     "collapsed": false,
     "input": [
      "dir(dympy)"
     ],
     "language": "python",
     "metadata": {},
     "outputs": []
    },
    {
     "cell_type": "code",
     "collapsed": false,
     "input": [
      "dymola = dympy.Dymola()"
     ],
     "language": "python",
     "metadata": {},
     "outputs": []
    },
    {
     "cell_type": "code",
     "collapsed": false,
     "input": [
      "dymola.openModel('C:\\\\Python27\\\\Lib\\\\site-packages\\\\dympy\\\\test.mo')"
     ],
     "language": "python",
     "metadata": {},
     "outputs": []
    },
    {
     "cell_type": "code",
     "collapsed": false,
     "input": [
      "dymola.compile('test')"
     ],
     "language": "python",
     "metadata": {},
     "outputs": []
    },
    {
     "cell_type": "markdown",
     "metadata": {},
     "source": [
      "##Simulate"
     ]
    },
    {
     "cell_type": "code",
     "collapsed": false,
     "input": [
      "dymola.simulate(StopTime=86400)"
     ],
     "language": "python",
     "metadata": {},
     "outputs": []
    },
    {
     "cell_type": "markdown",
     "metadata": {},
     "source": [
      "##Return results"
     ]
    },
    {
     "cell_type": "code",
     "collapsed": false,
     "input": [
      "res=dymola.get_result()"
     ],
     "language": "python",
     "metadata": {},
     "outputs": []
    },
    {
     "cell_type": "code",
     "collapsed": false,
     "input": [
      "res.keys()"
     ],
     "language": "python",
     "metadata": {},
     "outputs": []
    },
    {
     "cell_type": "code",
     "collapsed": false,
     "input": [
      "dymola.get_res('UA2T')"
     ],
     "language": "python",
     "metadata": {},
     "outputs": []
    },
    {
     "cell_type": "code",
     "collapsed": false,
     "input": [
      "plt.plot(res['Time']/3600,res['C1.T'],'r',label='$T_{C1}$')\n",
      "plt.plot(res['Time']/3600,res['C2.T'],'b',label='$T_{C2}$')\n",
      "plt.plot(res['Time']/3600,res['fixedTemperature.T'],'g',label='$T_{fixed}$')\n",
      "plt.legend()"
     ],
     "language": "python",
     "metadata": {},
     "outputs": []
    },
    {
     "cell_type": "markdown",
     "metadata": {},
     "source": [
      "##Using inputs and initial conditions"
     ]
    },
    {
     "cell_type": "code",
     "collapsed": false,
     "input": [
      "dymola.write_dsu({'time':[0,43200,86400],'u':[1000,5000,2000]})\n",
      "dymola.set_parameters({'C1.T':300})"
     ],
     "language": "python",
     "metadata": {},
     "outputs": []
    },
    {
     "cell_type": "code",
     "collapsed": false,
     "input": [
      "dymola.simulate(StopTime=86400)"
     ],
     "language": "python",
     "metadata": {},
     "outputs": []
    },
    {
     "cell_type": "code",
     "collapsed": false,
     "input": [
      "res=dymola.get_result()"
     ],
     "language": "python",
     "metadata": {},
     "outputs": []
    },
    {
     "cell_type": "code",
     "collapsed": false,
     "input": [
      "plt.subplot(211)\n",
      "plt.plot(res['Time']/3600,res['C1.T']-273.15,'r',label='$T_{C1}$')\n",
      "plt.plot(res['Time']/3600,res['C2.T']-273.15,'b',label='$T_{C2}$')\n",
      "plt.plot(res['Time']/3600,res['fixedTemperature.T']-273.15,'g',label='$T_{fixed}$')\n",
      "plt.legend()\n",
      "plt.ylabel('$T$ ($^\\circ$C)')\n",
      "\n",
      "plt.subplot(212)\n",
      "plt.plot(res['Time']/3600,res['u'],'r',label='$\\dot{Q}_{in}$')\n",
      "plt.ylabel('$\\dot{Q}$ (W)')\n",
      "plt.xlabel('time (h)')"
     ],
     "language": "python",
     "metadata": {},
     "outputs": []
    },
    {
     "cell_type": "code",
     "collapsed": false,
     "input": [
      "##Use output as new inputs"
     ],
     "language": "python",
     "metadata": {},
     "outputs": []
    },
    {
     "cell_type": "code",
     "collapsed": false,
     "input": [
      "dymola.dsfinal2dsin()"
     ],
     "language": "python",
     "metadata": {},
     "outputs": []
    },
    {
     "cell_type": "code",
     "collapsed": false,
     "input": [
      "dymola.simulate(StartTime=86400,StopTime=2*86400)"
     ],
     "language": "python",
     "metadata": {},
     "outputs": []
    },
    {
     "cell_type": "code",
     "collapsed": false,
     "input": [
      "res2=dymola.get_result()"
     ],
     "language": "python",
     "metadata": {},
     "outputs": []
    },
    {
     "cell_type": "code",
     "collapsed": false,
     "input": [
      "plt.subplot(211)\n",
      "plt.plot(res2['Time']/3600,res2['C1.T']-273.15,'r',label='$T_{C1}$')\n",
      "plt.plot(res2['Time']/3600,res2['C2.T']-273.15,'b',label='$T_{C2}$')\n",
      "plt.plot(res2['Time']/3600,res2['fixedTemperature.T']-273.15,'g',label='$T_{fixed}$')\n",
      "plt.legend()\n",
      "plt.ylabel('$T$ ($^\\circ$C)')\n",
      "\n",
      "plt.subplot(212)\n",
      "plt.plot(res2['Time']/3600,res2['u'],'r',label='$\\dot{Q}_{in}$')\n",
      "plt.ylabel('$\\dot{Q}$ (W)')\n",
      "plt.xlabel('time (h)')"
     ],
     "language": "python",
     "metadata": {},
     "outputs": []
    }
   ],
   "metadata": {}
  }
 ]
}