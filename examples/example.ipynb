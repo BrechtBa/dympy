{
 "cells": [
  {
   "cell_type": "markdown",
   "metadata": {},
   "source": [
    "# DymPy example"
   ]
  },
  {
   "cell_type": "code",
   "execution_count": 1,
   "metadata": {
    "collapsed": false
   },
   "outputs": [],
   "source": [
    "%matplotlib inline\n",
    "import dympy\n",
    "import matplotlib.pyplot as plt"
   ]
  },
  {
   "cell_type": "code",
   "execution_count": 2,
   "metadata": {
    "collapsed": false
   },
   "outputs": [
    {
     "data": {
      "text/plain": [
       "['Dymola',\n",
       " '__builtins__',\n",
       " '__doc__',\n",
       " '__file__',\n",
       " '__name__',\n",
       " '__package__',\n",
       " '__path__',\n",
       " 'dympy',\n",
       " 'util']"
      ]
     },
     "execution_count": 2,
     "metadata": {},
     "output_type": "execute_result"
    }
   ],
   "source": [
    "dir(dympy)"
   ]
  },
  {
   "cell_type": "code",
   "execution_count": 3,
   "metadata": {
    "collapsed": false
   },
   "outputs": [],
   "source": [
    "# initialize dymola connection\n",
    "dymola = dympy.Dymola()\n",
    "dymola.clear()"
   ]
  },
  {
   "cell_type": "code",
   "execution_count": 4,
   "metadata": {
    "collapsed": false
   },
   "outputs": [],
   "source": [
    "dymola.openModel('example.mo')"
   ]
  },
  {
   "cell_type": "code",
   "execution_count": 5,
   "metadata": {
    "collapsed": false
   },
   "outputs": [],
   "source": [
    "dymola.compile('example')"
   ]
  },
  {
   "cell_type": "markdown",
   "metadata": {},
   "source": [
    "## Set inputs, parameters and initial conditions"
   ]
  },
  {
   "cell_type": "code",
   "execution_count": 6,
   "metadata": {
    "collapsed": true
   },
   "outputs": [],
   "source": [
    "dymola.write_dsu({'time':[0,43200,86400],'Q_flow_hp':[1000,5000,2000],'T_amb':[273.15,278.15,273.15]})\n",
    "dymola.set_parameters({'C_in.C':5e6,'C_em.C':10e6,'UA_em_in.G':1600,'UA_in_amb.G':200})\n",
    "dymola.set_parameters({'C_em.T':300})"
   ]
  },
  {
   "cell_type": "markdown",
   "metadata": {},
   "source": [
    "## Simulate"
   ]
  },
  {
   "cell_type": "code",
   "execution_count": 7,
   "metadata": {
    "collapsed": false
   },
   "outputs": [],
   "source": [
    "dymola.simulate(StopTime=86400)"
   ]
  },
  {
   "cell_type": "markdown",
   "metadata": {},
   "source": [
    "## Return results"
   ]
  },
  {
   "cell_type": "code",
   "execution_count": 8,
   "metadata": {
    "collapsed": false
   },
   "outputs": [],
   "source": [
    "res = dymola.get_result()"
   ]
  },
  {
   "cell_type": "code",
   "execution_count": 9,
   "metadata": {
    "collapsed": false
   },
   "outputs": [
    {
     "data": {
      "text/plain": [
       "[u'C_in.port.Q_flow',\n",
       " u'prescribedHeatFlow_sol.port.T',\n",
       " u'prescribedHeatFlow_hp.port.T',\n",
       " u'UA_in_amb.port_b.T',\n",
       " u'UA_in_amb.port_b.Q_flow',\n",
       " u'UA_in_amb.Q_flow',\n",
       " u'prescribedHeatFlow_sol.alpha',\n",
       " u'prescribedHeatFlow_sol.T_ref',\n",
       " u'C_em.port.Q_flow',\n",
       " u'UA_em_in.port_a.T',\n",
       " u'prescribedHeatFlow_sol.port.Q_flow',\n",
       " u'UA_in_amb.port_a.Q_flow',\n",
       " u'prescribedHeatFlow_hp.T_ref',\n",
       " u'C_in.port.T',\n",
       " u'prescribedTemperature_amb.port.Q_flow',\n",
       " u'UA_em_in.port_b.T',\n",
       " u'C_em.der_T',\n",
       " u'UA_em_in.port_a.Q_flow',\n",
       " u'prescribedTemperature_amb.port.T',\n",
       " u'C_em.der(T)',\n",
       " u'UA_in_amb.dT',\n",
       " u'T_amb',\n",
       " u'UA_em_in.G',\n",
       " u'Q_flow_sol',\n",
       " u'C_in.der_T',\n",
       " u'prescribedHeatFlow_sol.Q_flow',\n",
       " u'C_em.T',\n",
       " u'C_em.C',\n",
       " u'UA_em_in.Q_flow',\n",
       " u'prescribedHeatFlow_hp.alpha',\n",
       " u'prescribedHeatFlow_hp.Q_flow',\n",
       " u'prescribedTemperature_amb.T',\n",
       " u'C_in.C',\n",
       " u'UA_in_amb.G',\n",
       " u'UA_em_in.dT',\n",
       " u'prescribedHeatFlow_hp.port.Q_flow',\n",
       " u'UA_em_in.port_b.Q_flow',\n",
       " u'C_em.port.T',\n",
       " 'time',\n",
       " u'UA_in_amb.port_a.T',\n",
       " u'C_in.der(T)',\n",
       " u'C_in.T',\n",
       " u'Q_flow_hp']"
      ]
     },
     "execution_count": 9,
     "metadata": {},
     "output_type": "execute_result"
    }
   ],
   "source": [
    "res.keys()"
   ]
  },
  {
   "cell_type": "code",
   "execution_count": 10,
   "metadata": {
    "collapsed": false
   },
   "outputs": [
    {
     "data": {
      "text/plain": [
       "[u'UA_em_in.port_a.T',\n",
       " u'UA_em_in.port_b.T',\n",
       " u'UA_em_in.port_a.Q_flow',\n",
       " u'UA_em_in.G',\n",
       " u'UA_em_in.Q_flow',\n",
       " u'UA_em_in.dT',\n",
       " u'UA_em_in.port_b.Q_flow']"
      ]
     },
     "execution_count": 10,
     "metadata": {},
     "output_type": "execute_result"
    }
   ],
   "source": [
    "dymola.get_res('UA_em_in')"
   ]
  },
  {
   "cell_type": "code",
   "execution_count": 11,
   "metadata": {
    "collapsed": false
   },
   "outputs": [
    {
     "data": {
      "text/plain": [
       "<matplotlib.legend.Legend at 0x6050f50>"
      ]
     },
     "execution_count": 11,
     "metadata": {},
     "output_type": "execute_result"
    },
    {
     "data": {
      "image/png": "[encoded data removed]",
      "text/plain": [
       "<matplotlib.figure.Figure at 0x5f9e7d0>"
      ]
     },
     "metadata": {},
     "output_type": "display_data"
    }
   ],
   "source": [
    "plt.figure(figsize=(10,8))\n",
    "ax = plt.subplot(211)\n",
    "ax.plot(res['time']/3600,res['Q_flow_hp'],'r',label='hp')\n",
    "ax.plot(res['time']/3600,res['Q_flow_sol'],'g',label='sol')\n",
    "ax.set_ylabel('$\\dot{Q}$ (W)')\n",
    "plt.legend()\n",
    "\n",
    "ax = plt.subplot(212)\n",
    "ax.plot(res['time']/3600,res['C_in.T'],'r',label='in')\n",
    "ax.plot(res['time']/3600,res['C_em.T'],'b',label='em')\n",
    "ax.plot(res['time']/3600,res['T_amb'],'g',label='amb')\n",
    "ax.set_ylabel('$T$ ($^\\circ$C)')\n",
    "ax.set_xlabel('time (h)')\n",
    "plt.legend()"
   ]
  },
  {
   "cell_type": "markdown",
   "metadata": {
    "collapsed": false
   },
   "source": [
    "## Use output as new inputs"
   ]
  },
  {
   "cell_type": "code",
   "execution_count": 12,
   "metadata": {
    "collapsed": false
   },
   "outputs": [],
   "source": [
    "dymola.dsfinal2dsin()"
   ]
  },
  {
   "cell_type": "code",
   "execution_count": 13,
   "metadata": {
    "collapsed": false
   },
   "outputs": [],
   "source": [
    "dymola.simulate(StartTime=86400,StopTime=2*86400)"
   ]
  },
  {
   "cell_type": "code",
   "execution_count": 14,
   "metadata": {
    "collapsed": false
   },
   "outputs": [],
   "source": [
    "res2 = dymola.get_result()"
   ]
  },
  {
   "cell_type": "code",
   "execution_count": 15,
   "metadata": {
    "collapsed": false
   },
   "outputs": [
    {
     "data": {
      "text/plain": [
       "<matplotlib.legend.Legend at 0x7af8570>"
      ]
     },
     "execution_count": 15,
     "metadata": {},
     "output_type": "execute_result"
    },
    {
     "data": {
      "image/png": "[encoded data removed]",
      "text/plain": [
       "<matplotlib.figure.Figure at 0x611a2f0>"
      ]
     },
     "metadata": {},
     "output_type": "display_data"
    }
   ],
   "source": [
    "plt.figure(figsize=(10,8))\n",
    "ax = plt.subplot(211)\n",
    "ax.plot(res2['time']/3600,res2['Q_flow_hp'],'r',label='hp')\n",
    "ax.plot(res2['time']/3600,res2['Q_flow_sol'],'g',label='sol')\n",
    "ax.set_ylabel('$\\dot{Q}$ (W)')\n",
    "plt.legend()\n",
    "\n",
    "ax = plt.subplot(212)\n",
    "ax.plot(res2['time']/3600,res2['C_in.T'],'r',label='in')\n",
    "ax.plot(res2['time']/3600,res2['C_em.T'],'b',label='em')\n",
    "ax.plot(res2['time']/3600,res2['T_amb'],'g',label='amb')\n",
    "ax.set_ylabel('$T$ ($^\\circ$C)')\n",
    "ax.set_xlabel('time (h)')\n",
    "plt.legend()"
   ]
  }
 ],
 "metadata": {
  "kernelspec": {
   "display_name": "Python 2",
   "language": "python",
   "name": "python2"
  },
  "language_info": {
   "codemirror_mode": {
    "name": "ipython",
    "version": 2
   },
   "file_extension": ".py",
   "mimetype": "text/x-python",
   "name": "python",
   "nbconvert_exporter": "python",
   "pygments_lexer": "ipython2",
   "version": "2.7.10"
  }
 },
 "nbformat": 4,
 "nbformat_minor": 0
}
